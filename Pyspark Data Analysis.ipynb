{
 "cells": [
  {
   "cell_type": "code",
   "execution_count": 1,
   "id": "efa70d77",
   "metadata": {},
   "outputs": [
    {
     "name": "stderr",
     "output_type": "stream",
     "text": [
      "Setting default log level to \"WARN\".\n",
      "To adjust logging level use sc.setLogLevel(newLevel). For SparkR, use setLogLevel(newLevel).\n"
     ]
    },
    {
     "name": "stdout",
     "output_type": "stream",
     "text": [
      "23/02/10 16:13:04 WARN NativeCodeLoader: Unable to load native-hadoop library for your platform... using builtin-java classes where applicable\n"
     ]
    }
   ],
   "source": [
    "from pyspark.sql import SparkSession\n",
    "spark = SparkSession.builder.appName('com.spark-dataframe').getOrCreate()"
   ]
  },
  {
   "cell_type": "code",
   "execution_count": 23,
   "id": "af1eebf0",
   "metadata": {},
   "outputs": [],
   "source": [
    "def load_dataframe(filename):\n",
    "    df = spark.read.format('csv').options(header='true',inferSchema = 'true').load(filename)\n",
    "    return df"
   ]
  },
  {
   "cell_type": "code",
   "execution_count": 24,
   "id": "75bc7a4d",
   "metadata": {},
   "outputs": [],
   "source": [
    "matches_df = load_dataframe('/Users/antonyprincej/projects/pyspark-notebooks/Data/Matches.csv')"
   ]
  },
  {
   "cell_type": "code",
   "execution_count": 25,
   "id": "72159d17",
   "metadata": {},
   "outputs": [
    {
     "name": "stdout",
     "output_type": "stream",
     "text": [
      "root\n",
      " |-- Match_ID: integer (nullable = true)\n",
      " |-- Div: string (nullable = true)\n",
      " |-- Season: integer (nullable = true)\n",
      " |-- Date: timestamp (nullable = true)\n",
      " |-- HomeTeam: string (nullable = true)\n",
      " |-- AwayTeam: string (nullable = true)\n",
      " |-- FTHG: integer (nullable = true)\n",
      " |-- FTAG: integer (nullable = true)\n",
      " |-- FTR: string (nullable = true)\n",
      "\n"
     ]
    }
   ],
   "source": [
    "matches_df.printSchema()"
   ]
  },
  {
   "cell_type": "code",
   "execution_count": 26,
   "id": "5633c78a",
   "metadata": {},
   "outputs": [
    {
     "name": "stdout",
     "output_type": "stream",
     "text": [
      "+--------+---+------+-------------------+-------------+--------------+----+----+---+\n",
      "|Match_ID|Div|Season|               Date|     HomeTeam|      AwayTeam|FTHG|FTAG|FTR|\n",
      "+--------+---+------+-------------------+-------------+--------------+----+----+---+\n",
      "|       1| D2|  2009|2010-04-04 00:00:00|   Oberhausen|Kaiserslautern|   2|   1|  H|\n",
      "|       2| D2|  2009|2009-11-01 00:00:00|  Munich 1860|Kaiserslautern|   0|   1|  A|\n",
      "|       3| D2|  2009|2009-10-04 00:00:00|Frankfurt FSV|Kaiserslautern|   1|   1|  D|\n",
      "|       4| D2|  2009|2010-02-21 00:00:00|Frankfurt FSV|     Karlsruhe|   2|   1|  H|\n",
      "|       5| D2|  2009|2009-12-06 00:00:00|        Ahlen|     Karlsruhe|   1|   3|  A|\n",
      "+--------+---+------+-------------------+-------------+--------------+----+----+---+\n",
      "only showing top 5 rows\n",
      "\n"
     ]
    }
   ],
   "source": [
    "matches_df.show(5)"
   ]
  },
  {
   "cell_type": "code",
   "execution_count": 32,
   "id": "cb0652fd",
   "metadata": {},
   "outputs": [],
   "source": [
    "from pyspark.sql.functions import col,sum,avg,max,min,mean,count"
   ]
  },
  {
   "cell_type": "code",
   "execution_count": 33,
   "id": "66d757f8",
   "metadata": {},
   "outputs": [
    {
     "name": "stdout",
     "output_type": "stream",
     "text": [
      "+--------------+-------+\n",
      "|      AwayTeam|Players|\n",
      "+--------------+-------+\n",
      "|         Mainz|    427|\n",
      "|Kaiserslautern|    393|\n",
      "|     Tottenham|    460|\n",
      "|    Schalke 04|    425|\n",
      "|      Nurnberg|    408|\n",
      "|        Bolton|    247|\n",
      "|  Union Berlin|    204|\n",
      "|Sheffield Weds|    137|\n",
      "|    Sunderland|    304|\n",
      "| Frankfurt FSV|    136|\n",
      "|      Coventry|    156|\n",
      "|        F Koln|    121|\n",
      "|Erzgebirge Aue|    204|\n",
      "|       Arsenal|    460|\n",
      "|      Man City|    365|\n",
      "|     Blackburn|    327|\n",
      "|        Bochum|    427|\n",
      "|    Hoffenheim|    187|\n",
      "|    RB Leipzig|    153|\n",
      "|       Norwich|    137|\n",
      "+--------------+-------+\n",
      "only showing top 20 rows\n",
      "\n"
     ]
    }
   ],
   "source": [
    "matches_df \\\n",
    "    .groupBy('AwayTeam') \\\n",
    "    .agg(count(\"Match_ID\").alias(\"Players\")) \\\n",
    "    .where(col(\"Players\") > 100) \\\n",
    "    .show()"
   ]
  },
  {
   "cell_type": "code",
   "execution_count": 36,
   "id": "d85c2dc4",
   "metadata": {},
   "outputs": [
    {
     "ename": "SyntaxError",
     "evalue": "unexpected character after line continuation character (1553621699.py, line 3)",
     "output_type": "error",
     "traceback": [
      "\u001b[0;36m  Cell \u001b[0;32mIn [36], line 3\u001b[0;36m\u001b[0m\n\u001b[0;31m    .agg(count(\"HomeTeam\").alias(\"Teams\")) \\\u001b[0m\n\u001b[0m                                             \n^\u001b[0m\n\u001b[0;31mSyntaxError\u001b[0m\u001b[0;31m:\u001b[0m unexpected character after line continuation character\n"
     ]
    }
   ],
   "source": [
    "matches_df \\\n",
    "    .groupBy('Div')\n",
    "    .agg(count(\"HomeTeam\").alias(\"Teams\")) \\ \n",
    "    .show()"
   ]
  },
  {
   "cell_type": "code",
   "execution_count": null,
   "id": "46b4fae9",
   "metadata": {},
   "outputs": [],
   "source": []
  }
 ],
 "metadata": {
  "kernelspec": {
   "display_name": "Python 3 (ipykernel)",
   "language": "python",
   "name": "python3"
  },
  "language_info": {
   "codemirror_mode": {
    "name": "ipython",
    "version": 3
   },
   "file_extension": ".py",
   "mimetype": "text/x-python",
   "name": "python",
   "nbconvert_exporter": "python",
   "pygments_lexer": "ipython3",
   "version": "3.10.6"
  }
 },
 "nbformat": 4,
 "nbformat_minor": 5
}
