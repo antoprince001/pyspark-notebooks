{
 "cells": [
  {
   "cell_type": "code",
   "execution_count": 2,
   "id": "019dfced",
   "metadata": {},
   "outputs": [],
   "source": [
    "import great_expectations as ge\n",
    "from great_expectations.dataset.sparkdf_dataset import SparkDFDataset\n",
    "import pyspark\n",
    "from pyspark.sql import functions as f, Window\n",
    "import json\n",
    "from pyspark.sql import SparkSession\n"
   ]
  },
  {
   "cell_type": "code",
   "execution_count": 3,
   "id": "f5baae42",
   "metadata": {},
   "outputs": [
    {
     "name": "stdout",
     "output_type": "stream",
     "text": [
      "23/03/12 20:10:50 WARN Utils: Your hostname, Antonys-MacBook-Pro.local resolves to a loopback address: 127.0.0.1; using 192.168.1.19 instead (on interface en0)\n",
      "23/03/12 20:10:50 WARN Utils: Set SPARK_LOCAL_IP if you need to bind to another address\n"
     ]
    },
    {
     "name": "stderr",
     "output_type": "stream",
     "text": [
      "Setting default log level to \"WARN\".\n",
      "To adjust logging level use sc.setLogLevel(newLevel). For SparkR, use setLogLevel(newLevel).\n"
     ]
    },
    {
     "name": "stdout",
     "output_type": "stream",
     "text": [
      "23/03/12 20:10:51 WARN NativeCodeLoader: Unable to load native-hadoop library for your platform... using builtin-java classes where applicable\n",
      "23/03/12 20:10:52 WARN Utils: Service 'SparkUI' could not bind on port 4040. Attempting port 4041.\n"
     ]
    }
   ],
   "source": [
    "spark = SparkSession.builder.appName('com.spark-dataframe').getOrCreate()"
   ]
  },
  {
   "cell_type": "code",
   "execution_count": 4,
   "id": "8ce9393c",
   "metadata": {},
   "outputs": [],
   "source": [
    "df = spark.read.format('csv').option('header', True).load('./Data/bank/bank-full.csv', sep = ';')\\\n",
    "    .withColumn('job', f.when(f.col('job') == 'unknown', f.lit(None)).otherwise(f.col('job')))\\\n",
    "    .withColumn('id', f.monotonically_increasing_id())"
   ]
  },
  {
   "cell_type": "code",
   "execution_count": 5,
   "id": "96f29c58",
   "metadata": {},
   "outputs": [],
   "source": [
    "def load_expectation_suite(path: str) -> dict:\n",
    "    \"\"\"Load expectation suite stored in JSON formatand convert into dictionary.\n",
    "    Args:\n",
    "        path (str): path to expectation suite json file\n",
    "    Returns:\n",
    "        dict: expectation suite\n",
    "    \"\"\"\n",
    "    with open(path, 'r') as f:\n",
    "        expectation_suite = json.load(f)\n",
    "    return expectation_suite"
   ]
  },
  {
   "cell_type": "code",
   "execution_count": 6,
   "id": "183d290a",
   "metadata": {},
   "outputs": [],
   "source": [
    "def great_expectation_validation(df: pyspark.sql.DataFrame,\n",
    "                                 expectation_suite_path: str) -> dict:\n",
    "    \"\"\"Run validation on DataFrame based on expecation suite\n",
    "    Args:\n",
    "        df (pyspark.sql.DataFrame): DataFrame to validate\n",
    "        expectation_suite_path (str): path to expectation suite json file\n",
    "    Returns:\n",
    "        dict: Validation result\n",
    "    \"\"\"\n",
    "    expectation_suite = load_expectation_suite(expectation_suite_path)\n",
    "    gdf = SparkDFDataset(df)\n",
    "    validation_results = gdf.validate(expectation_suite = expectation_suite, result_format = 'SUMMARY', catch_exceptions = True)\n",
    "    return validation_results"
   ]
  },
  {
   "cell_type": "code",
   "execution_count": 7,
   "id": "71cbde0b",
   "metadata": {},
   "outputs": [
    {
     "name": "stderr",
     "output_type": "stream",
     "text": [
      "                                                                                \r"
     ]
    }
   ],
   "source": [
    "validation_result = great_expectation_validation(df = df, \n",
    "                                 expectation_suite_path = 'my_expectation_suite.json')"
   ]
  },
  {
   "cell_type": "code",
   "execution_count": 8,
   "id": "6fe9d612",
   "metadata": {},
   "outputs": [
    {
     "data": {
      "text/plain": [
       "False"
      ]
     },
     "execution_count": 8,
     "metadata": {},
     "output_type": "execute_result"
    }
   ],
   "source": [
    "validation_result['success']\n"
   ]
  },
  {
   "cell_type": "code",
   "execution_count": 9,
   "id": "19e0fc8f",
   "metadata": {},
   "outputs": [
    {
     "data": {
      "text/plain": [
       "{'evaluated_expectations': 4,\n",
       " 'successful_expectations': 3,\n",
       " 'unsuccessful_expectations': 1,\n",
       " 'success_percent': 75.0}"
      ]
     },
     "execution_count": 9,
     "metadata": {},
     "output_type": "execute_result"
    }
   ],
   "source": [
    "validation_result['statistics']\n"
   ]
  },
  {
   "cell_type": "code",
   "execution_count": 10,
   "id": "96508f91",
   "metadata": {},
   "outputs": [
    {
     "data": {
      "text/plain": [
       "{\n",
       "  \"statistics\": {\n",
       "    \"evaluated_expectations\": 4,\n",
       "    \"successful_expectations\": 3,\n",
       "    \"unsuccessful_expectations\": 1,\n",
       "    \"success_percent\": 75.0\n",
       "  },\n",
       "  \"results\": [\n",
       "    {\n",
       "      \"result\": {\n",
       "        \"observed_value\": [\n",
       "          \"age\",\n",
       "          \"job\",\n",
       "          \"marital\",\n",
       "          \"education\",\n",
       "          \"default\",\n",
       "          \"balance\",\n",
       "          \"housing\",\n",
       "          \"loan\",\n",
       "          \"contact\",\n",
       "          \"day\",\n",
       "          \"month\",\n",
       "          \"duration\",\n",
       "          \"campaign\",\n",
       "          \"pdays\",\n",
       "          \"previous\",\n",
       "          \"poutcome\",\n",
       "          \"y\",\n",
       "          \"id\"\n",
       "        ]\n",
       "      },\n",
       "      \"exception_info\": {\n",
       "        \"raised_exception\": false,\n",
       "        \"exception_message\": null,\n",
       "        \"exception_traceback\": null\n",
       "      },\n",
       "      \"expectation_config\": {\n",
       "        \"kwargs\": {\n",
       "          \"column_set\": [\n",
       "            \"age\",\n",
       "            \"job\",\n",
       "            \"marital\",\n",
       "            \"education\",\n",
       "            \"default\",\n",
       "            \"balance\",\n",
       "            \"housing\",\n",
       "            \"loan\",\n",
       "            \"contact\",\n",
       "            \"day\",\n",
       "            \"month\",\n",
       "            \"duration\",\n",
       "            \"campaign\",\n",
       "            \"pdays\",\n",
       "            \"previous\",\n",
       "            \"poutcome\",\n",
       "            \"y\",\n",
       "            \"id\"\n",
       "          ],\n",
       "          \"result_format\": \"SUMMARY\"\n",
       "        },\n",
       "        \"meta\": {},\n",
       "        \"expectation_type\": \"expect_table_columns_to_match_set\"\n",
       "      },\n",
       "      \"meta\": {},\n",
       "      \"success\": true\n",
       "    },\n",
       "    {\n",
       "      \"result\": {\n",
       "        \"element_count\": 45211,\n",
       "        \"missing_count\": 0,\n",
       "        \"missing_percent\": 0.0,\n",
       "        \"unexpected_count\": 0,\n",
       "        \"unexpected_percent\": 0.0,\n",
       "        \"unexpected_percent_total\": 0.0,\n",
       "        \"unexpected_percent_nonmissing\": 0.0,\n",
       "        \"partial_unexpected_list\": [],\n",
       "        \"partial_unexpected_index_list\": null,\n",
       "        \"partial_unexpected_counts\": []\n",
       "      },\n",
       "      \"exception_info\": {\n",
       "        \"raised_exception\": false,\n",
       "        \"exception_message\": null,\n",
       "        \"exception_traceback\": null\n",
       "      },\n",
       "      \"expectation_config\": {\n",
       "        \"kwargs\": {\n",
       "          \"column\": \"marital\",\n",
       "          \"value_set\": [\n",
       "            \"divorced\",\n",
       "            \"single\",\n",
       "            \"married\"\n",
       "          ],\n",
       "          \"result_format\": \"SUMMARY\"\n",
       "        },\n",
       "        \"meta\": {},\n",
       "        \"expectation_type\": \"expect_column_values_to_be_in_set\"\n",
       "      },\n",
       "      \"meta\": {},\n",
       "      \"success\": true\n",
       "    },\n",
       "    {\n",
       "      \"result\": {\n",
       "        \"element_count\": 45211,\n",
       "        \"unexpected_count\": 288,\n",
       "        \"unexpected_percent\": 0.6370131162770122,\n",
       "        \"unexpected_percent_total\": 0.6370131162770122,\n",
       "        \"partial_unexpected_list\": [\n",
       "          null,\n",
       "          null,\n",
       "          null,\n",
       "          null,\n",
       "          null,\n",
       "          null,\n",
       "          null,\n",
       "          null,\n",
       "          null,\n",
       "          null,\n",
       "          null,\n",
       "          null,\n",
       "          null,\n",
       "          null,\n",
       "          null,\n",
       "          null,\n",
       "          null,\n",
       "          null,\n",
       "          null,\n",
       "          null\n",
       "        ],\n",
       "        \"partial_unexpected_index_list\": null\n",
       "      },\n",
       "      \"exception_info\": {\n",
       "        \"raised_exception\": false,\n",
       "        \"exception_message\": null,\n",
       "        \"exception_traceback\": null\n",
       "      },\n",
       "      \"expectation_config\": {\n",
       "        \"kwargs\": {\n",
       "          \"column\": \"job\",\n",
       "          \"result_format\": \"SUMMARY\"\n",
       "        },\n",
       "        \"meta\": {},\n",
       "        \"expectation_type\": \"expect_column_values_to_not_be_null\"\n",
       "      },\n",
       "      \"meta\": {},\n",
       "      \"success\": false\n",
       "    },\n",
       "    {\n",
       "      \"result\": {\n",
       "        \"element_count\": 45211,\n",
       "        \"missing_count\": 0,\n",
       "        \"missing_percent\": 0.0,\n",
       "        \"unexpected_count\": 0,\n",
       "        \"unexpected_percent\": 0.0,\n",
       "        \"unexpected_percent_total\": 0.0,\n",
       "        \"unexpected_percent_nonmissing\": 0.0,\n",
       "        \"partial_unexpected_list\": [],\n",
       "        \"partial_unexpected_index_list\": null,\n",
       "        \"partial_unexpected_counts\": []\n",
       "      },\n",
       "      \"exception_info\": {\n",
       "        \"raised_exception\": false,\n",
       "        \"exception_message\": null,\n",
       "        \"exception_traceback\": null\n",
       "      },\n",
       "      \"expectation_config\": {\n",
       "        \"kwargs\": {\n",
       "          \"column\": \"id\",\n",
       "          \"result_format\": \"SUMMARY\"\n",
       "        },\n",
       "        \"meta\": {},\n",
       "        \"expectation_type\": \"expect_column_values_to_be_unique\"\n",
       "      },\n",
       "      \"meta\": {},\n",
       "      \"success\": true\n",
       "    }\n",
       "  ],\n",
       "  \"meta\": {\n",
       "    \"great_expectations_version\": \"0.16.0\",\n",
       "    \"expectation_suite_name\": \"default\",\n",
       "    \"run_id\": {\n",
       "      \"run_time\": \"2023-03-12T20:12:06.782107+05:30\",\n",
       "      \"run_name\": null\n",
       "    },\n",
       "    \"batch_kwargs\": {\n",
       "      \"ge_batch_id\": \"0fc2413a-c0e4-11ed-93aa-1ef625f3aedd\"\n",
       "    },\n",
       "    \"batch_markers\": {},\n",
       "    \"batch_parameters\": {},\n",
       "    \"validation_time\": \"20230312T144206.782043Z\",\n",
       "    \"expectation_suite_meta\": {\n",
       "      \"great_expectations_version\": \"0.16.0\"\n",
       "    }\n",
       "  },\n",
       "  \"success\": false,\n",
       "  \"evaluation_parameters\": {}\n",
       "}"
      ]
     },
     "execution_count": 10,
     "metadata": {},
     "output_type": "execute_result"
    }
   ],
   "source": [
    "validation_result"
   ]
  },
  {
   "cell_type": "code",
   "execution_count": null,
   "id": "6a2cd74f",
   "metadata": {},
   "outputs": [],
   "source": []
  }
 ],
 "metadata": {
  "kernelspec": {
   "display_name": "Python 3 (ipykernel)",
   "language": "python",
   "name": "python3"
  },
  "language_info": {
   "codemirror_mode": {
    "name": "ipython",
    "version": 3
   },
   "file_extension": ".py",
   "mimetype": "text/x-python",
   "name": "python",
   "nbconvert_exporter": "python",
   "pygments_lexer": "ipython3",
   "version": "3.10.6"
  }
 },
 "nbformat": 4,
 "nbformat_minor": 5
}
