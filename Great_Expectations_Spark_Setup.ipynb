{
 "cells": [
  {
   "cell_type": "markdown",
   "id": "9d619b87",
   "metadata": {},
   "source": [
    "Common considerations when it comes to data quality includes but not limited to:\n",
    "\n",
    "    Completeness\n",
    "    Consistency\n",
    "    Correctness\n",
    "    Uniqueness"
   ]
  },
  {
   "cell_type": "markdown",
   "id": "d08650ab",
   "metadata": {},
   "source": [
    "Expectations are assertions of the data. As the name implies, we are validating if the data is what we are expecting it to be. Great Expectations comes with predefined expectations for common data quality checks."
   ]
  },
  {
   "cell_type": "markdown",
   "id": "31ebc5ec",
   "metadata": {},
   "source": [
    "    expect_column_values_to_be_not_null\n",
    "    expect_column_values_tpytho_be_unique\n",
    "    expect_column_values_to_match_regex\n",
    "    expect_column_median_to_be_between\n",
    "    expect_table_row_count_to_be_between"
   ]
  },
  {
   "cell_type": "code",
   "execution_count": 3,
   "id": "c8e28e9f",
   "metadata": {},
   "outputs": [],
   "source": [
    "import great_expectations as ge\n",
    "from great_expectations.dataset.sparkdf_dataset import SparkDFDataset\n",
    "from pyspark.sql import functions as f, Window\n",
    "import json\n",
    "from pyspark.sql import SparkSession\n"
   ]
  },
  {
   "cell_type": "code",
   "execution_count": 4,
   "id": "af1649d2",
   "metadata": {},
   "outputs": [
    {
     "name": "stdout",
     "output_type": "stream",
     "text": [
      "23/03/12 20:02:37 WARN Utils: Your hostname, Antonys-MacBook-Pro.local resolves to a loopback address: 127.0.0.1; using 192.168.1.19 instead (on interface en0)\n",
      "23/03/12 20:02:37 WARN Utils: Set SPARK_LOCAL_IP if you need to bind to another address\n"
     ]
    },
    {
     "name": "stderr",
     "output_type": "stream",
     "text": [
      "Setting default log level to \"WARN\".\n",
      "To adjust logging level use sc.setLogLevel(newLevel). For SparkR, use setLogLevel(newLevel).\n"
     ]
    },
    {
     "name": "stdout",
     "output_type": "stream",
     "text": [
      "23/03/12 20:02:38 WARN NativeCodeLoader: Unable to load native-hadoop library for your platform... using builtin-java classes where applicable\n"
     ]
    }
   ],
   "source": [
    "spark = SparkSession.builder.appName('com.spark-dataframe').getOrCreate()"
   ]
  },
  {
   "cell_type": "code",
   "execution_count": 12,
   "id": "5be82265",
   "metadata": {},
   "outputs": [],
   "source": [
    "df = spark.read.format('csv').option('header', True).load('./Data/bank/bank-full.csv', sep = ';')\\\n",
    "    .withColumn('job', f.when(f.col('job') == 'unknown', f.lit(None)).otherwise(f.col('job')))\\\n",
    "    .withColumn('id', f.monotonically_increasing_id())"
   ]
  },
  {
   "cell_type": "code",
   "execution_count": 15,
   "id": "f74194dd",
   "metadata": {},
   "outputs": [
    {
     "name": "stdout",
     "output_type": "stream",
     "text": [
      "+---+------------+-------+---------+-------+-------+-------+----+-------+---+-----+--------+--------+-----+--------+--------+---+---+\n",
      "|age|         job|marital|education|default|balance|housing|loan|contact|day|month|duration|campaign|pdays|previous|poutcome|  y| id|\n",
      "+---+------------+-------+---------+-------+-------+-------+----+-------+---+-----+--------+--------+-----+--------+--------+---+---+\n",
      "| 58|  management|married| tertiary|     no|   2143|    yes|  no|unknown|  5|  may|     261|       1|   -1|       0| unknown| no|  0|\n",
      "| 44|  technician| single|secondary|     no|     29|    yes|  no|unknown|  5|  may|     151|       1|   -1|       0| unknown| no|  1|\n",
      "| 33|entrepreneur|married|secondary|     no|      2|    yes| yes|unknown|  5|  may|      76|       1|   -1|       0| unknown| no|  2|\n",
      "| 47| blue-collar|married|  unknown|     no|   1506|    yes|  no|unknown|  5|  may|      92|       1|   -1|       0| unknown| no|  3|\n",
      "| 33|        null| single|  unknown|     no|      1|     no|  no|unknown|  5|  may|     198|       1|   -1|       0| unknown| no|  4|\n",
      "+---+------------+-------+---------+-------+-------+-------+----+-------+---+-----+--------+--------+-----+--------+--------+---+---+\n",
      "only showing top 5 rows\n",
      "\n"
     ]
    }
   ],
   "source": [
    "df.show(5,truncate=True)"
   ]
  },
  {
   "cell_type": "markdown",
   "id": "09e09741",
   "metadata": {},
   "source": [
    "SparkDFDataset is a thin wrapper around PySpark DataFrame which allows us to use Great Expectation methods on Pyspark DataFrame."
   ]
  },
  {
   "cell_type": "code",
   "execution_count": 17,
   "id": "3b7d3680",
   "metadata": {},
   "outputs": [],
   "source": [
    "gdf = SparkDFDataset(df)"
   ]
  },
  {
   "cell_type": "code",
   "execution_count": 20,
   "id": "73e1901c",
   "metadata": {},
   "outputs": [],
   "source": [
    "expected_columns = ['age', 'job', 'marital',\n",
    "                    'education', 'default', 'balance',\n",
    "                    'housing', 'loan', 'contact',\n",
    "                    'day', 'month', 'duration',\n",
    "                    'campaign', 'pdays', 'previous',\n",
    "                    'poutcome', 'y','id']"
   ]
  },
  {
   "cell_type": "code",
   "execution_count": 21,
   "id": "78ae5191",
   "metadata": {},
   "outputs": [
    {
     "data": {
      "text/plain": [
       "{\n",
       "  \"meta\": {},\n",
       "  \"result\": {\n",
       "    \"observed_value\": [\n",
       "      \"age\",\n",
       "      \"job\",\n",
       "      \"marital\",\n",
       "      \"education\",\n",
       "      \"default\",\n",
       "      \"balance\",\n",
       "      \"housing\",\n",
       "      \"loan\",\n",
       "      \"contact\",\n",
       "      \"day\",\n",
       "      \"month\",\n",
       "      \"duration\",\n",
       "      \"campaign\",\n",
       "      \"pdays\",\n",
       "      \"previous\",\n",
       "      \"poutcome\",\n",
       "      \"y\",\n",
       "      \"id\"\n",
       "    ]\n",
       "  },\n",
       "  \"success\": true,\n",
       "  \"exception_info\": {\n",
       "    \"raised_exception\": false,\n",
       "    \"exception_traceback\": null,\n",
       "    \"exception_message\": null\n",
       "  }\n",
       "}"
      ]
     },
     "execution_count": 21,
     "metadata": {},
     "output_type": "execute_result"
    }
   ],
   "source": [
    "gdf.expect_table_columns_to_match_set(column_set = expected_columns)"
   ]
  },
  {
   "cell_type": "code",
   "execution_count": 22,
   "id": "ec2cde69",
   "metadata": {},
   "outputs": [
    {
     "name": "stderr",
     "output_type": "stream",
     "text": [
      "                                                                                \r"
     ]
    },
    {
     "data": {
      "text/plain": [
       "{\n",
       "  \"meta\": {},\n",
       "  \"result\": {\n",
       "    \"element_count\": 45211,\n",
       "    \"missing_count\": 0,\n",
       "    \"missing_percent\": 0.0,\n",
       "    \"unexpected_count\": 0,\n",
       "    \"unexpected_percent\": 0.0,\n",
       "    \"unexpected_percent_total\": 0.0,\n",
       "    \"unexpected_percent_nonmissing\": 0.0,\n",
       "    \"partial_unexpected_list\": []\n",
       "  },\n",
       "  \"success\": true,\n",
       "  \"exception_info\": {\n",
       "    \"raised_exception\": false,\n",
       "    \"exception_traceback\": null,\n",
       "    \"exception_message\": null\n",
       "  }\n",
       "}"
      ]
     },
     "execution_count": 22,
     "metadata": {},
     "output_type": "execute_result"
    }
   ],
   "source": [
    "gdf.expect_column_values_to_be_in_set(column = 'marital', value_set = {'single', 'married', 'divorced'})\n"
   ]
  },
  {
   "cell_type": "code",
   "execution_count": 23,
   "id": "0a7f7b5a",
   "metadata": {},
   "outputs": [
    {
     "data": {
      "text/plain": [
       "{\n",
       "  \"meta\": {},\n",
       "  \"result\": {\n",
       "    \"element_count\": 45211,\n",
       "    \"unexpected_count\": 288,\n",
       "    \"unexpected_percent\": 0.6370131162770122,\n",
       "    \"unexpected_percent_total\": 0.6370131162770122,\n",
       "    \"partial_unexpected_list\": [\n",
       "      null,\n",
       "      null,\n",
       "      null,\n",
       "      null,\n",
       "      null,\n",
       "      null,\n",
       "      null,\n",
       "      null,\n",
       "      null,\n",
       "      null,\n",
       "      null,\n",
       "      null,\n",
       "      null,\n",
       "      null,\n",
       "      null,\n",
       "      null,\n",
       "      null,\n",
       "      null,\n",
       "      null,\n",
       "      null\n",
       "    ]\n",
       "  },\n",
       "  \"success\": false,\n",
       "  \"exception_info\": {\n",
       "    \"raised_exception\": false,\n",
       "    \"exception_traceback\": null,\n",
       "    \"exception_message\": null\n",
       "  }\n",
       "}"
      ]
     },
     "execution_count": 23,
     "metadata": {},
     "output_type": "execute_result"
    }
   ],
   "source": [
    "gdf.expect_column_values_to_not_be_null(column = 'job')\n"
   ]
  },
  {
   "cell_type": "code",
   "execution_count": 24,
   "id": "f8000ce3",
   "metadata": {},
   "outputs": [
    {
     "data": {
      "text/plain": [
       "{\n",
       "  \"meta\": {},\n",
       "  \"result\": {\n",
       "    \"element_count\": 45211,\n",
       "    \"missing_count\": 0,\n",
       "    \"missing_percent\": 0.0,\n",
       "    \"unexpected_count\": 0,\n",
       "    \"unexpected_percent\": 0.0,\n",
       "    \"unexpected_percent_total\": 0.0,\n",
       "    \"unexpected_percent_nonmissing\": 0.0,\n",
       "    \"partial_unexpected_list\": []\n",
       "  },\n",
       "  \"success\": true,\n",
       "  \"exception_info\": {\n",
       "    \"raised_exception\": false,\n",
       "    \"exception_traceback\": null,\n",
       "    \"exception_message\": null\n",
       "  }\n",
       "}"
      ]
     },
     "execution_count": 24,
     "metadata": {},
     "output_type": "execute_result"
    }
   ],
   "source": [
    "gdf.expect_column_values_to_be_unique('id')\n"
   ]
  },
  {
   "cell_type": "code",
   "execution_count": 25,
   "id": "449db993",
   "metadata": {},
   "outputs": [],
   "source": [
    "expectation_suite = gdf.get_expectation_suite(discard_failed_expectations=False)\n"
   ]
  },
  {
   "cell_type": "code",
   "execution_count": 26,
   "id": "d74a0df4",
   "metadata": {},
   "outputs": [],
   "source": [
    "# save expectation suite\n",
    "with open('my_expectation_suite.json', 'w') as my_file:\n",
    "    my_file.write(\n",
    "        json.dumps(expectation_suite.to_json_dict())\n",
    "    )"
   ]
  },
  {
   "cell_type": "markdown",
   "id": "71f7d796",
   "metadata": {},
   "source": []
  },
  {
   "cell_type": "code",
   "execution_count": null,
   "id": "7015bef0",
   "metadata": {},
   "outputs": [],
   "source": []
  }
 ],
 "metadata": {
  "kernelspec": {
   "display_name": "Python 3 (ipykernel)",
   "language": "python",
   "name": "python3"
  },
  "language_info": {
   "codemirror_mode": {
    "name": "ipython",
    "version": 3
   },
   "file_extension": ".py",
   "mimetype": "text/x-python",
   "name": "python",
   "nbconvert_exporter": "python",
   "pygments_lexer": "ipython3",
   "version": "3.10.6"
  }
 },
 "nbformat": 4,
 "nbformat_minor": 5
}
